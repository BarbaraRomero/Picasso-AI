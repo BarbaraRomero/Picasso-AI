{
 "cells": [
  {
   "cell_type": "code",
   "execution_count": 131,
   "id": "9592826f",
   "metadata": {},
   "outputs": [],
   "source": [
    "import os, glob\n",
    "\n",
    "# load in the files and check if they all exists\n",
    "files = glob.glob('dialnet*.txt')\n",
    "assert all([os.path.exists(file) for file in files])"
   ]
  },
  {
   "cell_type": "code",
   "execution_count": 132,
   "id": "74419c3a",
   "metadata": {},
   "outputs": [
    {
     "data": {
      "text/plain": [
       "1201"
      ]
     },
     "execution_count": 132,
     "metadata": {},
     "output_type": "execute_result"
    }
   ],
   "source": [
    "\n",
    "def add_bibs(file, holder):\n",
    "    with open(file, 'r', encoding='utf-8') as f:\n",
    "        data = f.read()\n",
    "        bibs = data.split('@')\n",
    "        bibs = [holder.append(x) for x in bibs if x]\n",
    "        return holder\n",
    "\n",
    "# load the text per file, and extract the bibtext per file\n",
    "all_bibs = []    \n",
    "for file in files:\n",
    "    all_bibs = add_bibs(file, all_bibs)\n",
    "\n",
    "len(all_bibs)"
   ]
  },
  {
   "cell_type": "code",
   "execution_count": 149,
   "id": "d0e93c9f",
   "metadata": {},
   "outputs": [],
   "source": [
    "\n",
    "new_bibs = []\n",
    "\n",
    "def get_field(bib, field):\n",
    "    # returnn the textual data and a flag to see if it was skipped, or actually empty\n",
    "    if field in bib:\n",
    "        return bib.split('\\t' + field)[1].split('}')[0], False\n",
    "    else:\n",
    "        return '', True\n",
    "\n",
    "\n",
    "for bib in all_bibs:\n",
    "    if bib:\n",
    "        \n",
    "        title, skip_title = get_field(bib, 'title={')\n",
    "        author, skip_author = get_field(bib, 'author={')\n",
    "        abstract, skip_abstract = get_field(bib, 'abstract={')\n",
    "        year, skip_year = get_field(bib, 'year=')\n",
    "        \n",
    "        skip = any([skip_title, skip_author, skip_abstract,skip_year])\n",
    "\n",
    "        if not skip:\n",
    "            new_bib = ','.join([year, title, author, abstract])\n",
    "            new_bibs.append(new_bib)"
   ]
  },
  {
   "cell_type": "code",
   "execution_count": 151,
   "id": "42375994",
   "metadata": {},
   "outputs": [
    {
     "data": {
      "text/plain": [
       "367"
      ]
     },
     "execution_count": 151,
     "metadata": {},
     "output_type": "execute_result"
    }
   ],
   "source": [
    "len(new_bibs)"
   ]
  },
  {
   "cell_type": "code",
   "execution_count": 152,
   "id": "001324fc",
   "metadata": {},
   "outputs": [],
   "source": [
    "# sort the new_bibs based on the first comma seperated value. If this first value is '', supstitute it with 9999\n",
    "new_bibs.sort(key = lambda e: int(e.split(',')[0]) if e.split(',')[0] else 9999, reverse=True)"
   ]
  },
  {
   "cell_type": "code",
   "execution_count": 153,
   "id": "dee0f5d5",
   "metadata": {},
   "outputs": [],
   "source": [
    "# write the new_bibs to a file\n",
    "with open('new_bibs.txt', 'a+', encoding='utf-8') as f:\n",
    "    for bib in new_bibs:\n",
    "        bib = bib.replace('\\n','')\n",
    "        f.write(bib)\n",
    "        f.write('\\n')"
   ]
  }
 ],
 "metadata": {
  "kernelspec": {
   "display_name": "Python 3 (ipykernel)",
   "language": "python",
   "name": "python3"
  },
  "language_info": {
   "codemirror_mode": {
    "name": "ipython",
    "version": 3
   },
   "file_extension": ".py",
   "mimetype": "text/x-python",
   "name": "python",
   "nbconvert_exporter": "python",
   "pygments_lexer": "ipython3",
   "version": "3.8.8"
  }
 },
 "nbformat": 4,
 "nbformat_minor": 5
}
